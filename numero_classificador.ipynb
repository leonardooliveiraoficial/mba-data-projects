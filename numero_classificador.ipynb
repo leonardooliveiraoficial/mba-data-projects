{
  "nbformat": 4,
  "nbformat_minor": 0,
  "metadata": {
    "colab": {
      "provenance": [],
      "authorship_tag": "ABX9TyMCiTHbakEGz4OkjuTwRWJI",
      "include_colab_link": true
    },
    "kernelspec": {
      "name": "python3",
      "display_name": "Python 3"
    },
    "language_info": {
      "name": "python"
    }
  },
  "cells": [
    {
      "cell_type": "markdown",
      "metadata": {
        "id": "view-in-github",
        "colab_type": "text"
      },
      "source": [
        "<a href=\"https://colab.research.google.com/github/leonardooliveiraoficial/mba-data-projects/blob/main/numero_classificador.ipynb\" target=\"_parent\"><img src=\"https://colab.research.google.com/assets/colab-badge.svg\" alt=\"Open In Colab\"/></a>"
      ]
    },
    {
      "cell_type": "markdown",
      "source": [],
      "metadata": {
        "id": "4URIMuU46Mfi"
      }
    },
    {
      "cell_type": "markdown",
      "source": [
        "# **Classificador de Números Inteiros**\n",
        "\n",
        "> Projeto em Python para classificação de números (positivo/negativo/zero, par/ímpar e primo/não primo)"
      ],
      "metadata": {
        "id": "g1hV_-PH1HHA"
      }
    },
    {
      "cell_type": "markdown",
      "source": [
        "---\n",
        "## **1. Importar Bibliotecas**"
      ],
      "metadata": {
        "id": "4sXnnYoX1e25"
      }
    },
    {
      "cell_type": "code",
      "source": [
        "import sys\n",
        "import logging"
      ],
      "metadata": {
        "id": "-2w675tn6hs2"
      },
      "execution_count": 14,
      "outputs": []
    },
    {
      "cell_type": "markdown",
      "source": [
        "---\n",
        "## **2. Configuração de log**"
      ],
      "metadata": {
        "id": "5bbRSqxk22KY"
      }
    },
    {
      "cell_type": "code",
      "source": [
        "logging.basicConfig(filename=\"classificador.log\", level=logging.INFO, format=\"%(asctime)s - %(message)s\")"
      ],
      "metadata": {
        "id": "ikknGxjL24LQ"
      },
      "execution_count": 15,
      "outputs": []
    },
    {
      "cell_type": "markdown",
      "source": [
        "---\n",
        "## **3. Implementação das funções** ##"
      ],
      "metadata": {
        "id": "ycsI8sBY1k5p"
      }
    },
    {
      "cell_type": "code",
      "source": [
        "def eh_primo(n: int) -> bool:\n",
        "    \"\"\"\n",
        "    Verifica se um número é primo.\n",
        "    \"\"\"\n",
        "    if n <= 1:\n",
        "        return False\n",
        "    for i in range(2, int(n**0.5) + 1):\n",
        "        if n % i == 0:\n",
        "            return False\n",
        "    return True\n",
        "\n",
        "\n",
        "def classificar_numero(numero: int) -> str:\n",
        "    \"\"\"\n",
        "    Classifica um número quanto a:\n",
        "    - Positivo, Negativo ou Zero\n",
        "    - Par ou Ímpar\n",
        "    - Primo ou Não Primo\n",
        "    \"\"\"\n",
        "    if numero > 0:\n",
        "        status = \"positivo\"\n",
        "    elif numero < 0:\n",
        "        status = \"negativo\"\n",
        "    else:\n",
        "        status = \"zero\"\n",
        "\n",
        "    paridade = \"par\" if numero % 2 == 0 else \"ímpar\"\n",
        "    primo = \"primo\" if eh_primo(numero) else \"não primo\"\n",
        "\n",
        "    resultado = f\"O número {numero} é {status}, {paridade} e {primo}.\"\n",
        "\n",
        "    logging.info(resultado)\n",
        "    return resultado"
      ],
      "metadata": {
        "id": "ot69CeeJ0Dtg"
      },
      "execution_count": 16,
      "outputs": []
    },
    {
      "cell_type": "markdown",
      "source": [
        "---\n",
        "## **4. Execução do programa** ##"
      ],
      "metadata": {
        "id": "2mM0Uw_x3QPI"
      }
    },
    {
      "cell_type": "code",
      "source": [
        "if __name__ == \"__main__\":\n",
        "    try:\n",
        "        if len(sys.argv) > 1:\n",
        "            # Entrada via linha de comando (terminal)\n",
        "            numero = int(sys.argv[1])\n",
        "            print(classificar_numero(numero))\n",
        "        else:\n",
        "            # Entrada interativa (notebook ou execução normal)\n",
        "            numero = int(input(\"👉 Digite um número inteiro para classificar: \"))\n",
        "            print(\"🔎 Resultado:\", classificar_numero(numero))\n",
        "    except ValueError:\n",
        "        print(\"⚠️ Entrada inválida! Por favor, digite um número inteiro.\")"
      ],
      "metadata": {
        "colab": {
          "base_uri": "https://localhost:8080/"
        },
        "id": "1EuW8iAf3QyQ",
        "outputId": "393ced11-6886-48d2-e1e6-16f2678d7a82"
      },
      "execution_count": 17,
      "outputs": [
        {
          "output_type": "stream",
          "name": "stdout",
          "text": [
            "⚠️ Entrada inválida! Por favor, digite um número inteiro.\n"
          ]
        }
      ]
    }
  ]
}
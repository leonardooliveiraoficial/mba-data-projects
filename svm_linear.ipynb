{
  "nbformat": 4,
  "nbformat_minor": 0,
  "metadata": {
    "colab": {
      "provenance": [],
      "authorship_tag": "ABX9TyPiuM7vqWfCDGn+VXZ5DO5L",
      "include_colab_link": true
    },
    "kernelspec": {
      "name": "python3",
      "display_name": "Python 3"
    },
    "language_info": {
      "name": "python"
    }
  },
  "cells": [
    {
      "cell_type": "markdown",
      "metadata": {
        "id": "view-in-github",
        "colab_type": "text"
      },
      "source": [
        "<a href=\"https://colab.research.google.com/github/leonardooliveiraoficial/mba-data-projects/blob/main/svm_linear.ipynb\" target=\"_parent\"><img src=\"https://colab.research.google.com/assets/colab-badge.svg\" alt=\"Open In Colab\"/></a>"
      ]
    },
    {
      "cell_type": "markdown",
      "source": [
        "# **Análise de Crédito**\n",
        "\n",
        "> Classificação com SVM Linear e Seleção de Atributos (RFE)"
      ],
      "metadata": {
        "id": "VAKxtlaXsZ1R"
      }
    },
    {
      "cell_type": "markdown",
      "source": [
        "---\n",
        "## **1. Coleta de dados**"
      ],
      "metadata": {
        "id": "jl2oqAHhtA64"
      }
    },
    {
      "cell_type": "markdown",
      "source": [
        "```\n",
        "Instalação/Importação de bibliotecas\n",
        "```"
      ],
      "metadata": {
        "id": "F_ZKhadvtJkw"
      }
    },
    {
      "cell_type": "code",
      "source": [
        "import os\n",
        "import pandas as pd\n",
        "from sklearn.model_selection import train_test_split\n",
        "from sklearn.preprocessing import StandardScaler\n",
        "from sklearn.svm import SVC\n",
        "from sklearn.metrics import accuracy_score\n",
        "from sklearn.feature_selection import RFE"
      ],
      "metadata": {
        "id": "ayert_kuwdS3"
      },
      "execution_count": null,
      "outputs": []
    },
    {
      "cell_type": "markdown",
      "source": [
        "```\n",
        "Leitura do CSV\n",
        "```"
      ],
      "metadata": {
        "id": "JEX-hwIztPoo"
      }
    },
    {
      "cell_type": "code",
      "source": [
        "CSV_PATH = \"/content/clientes_inadimplencia.csv\"\n",
        "RANDOM_STATE = 42\n",
        "TEST_SIZE = 0.25\n",
        "N_FEATURES_RFE = 5"
      ],
      "metadata": {
        "id": "Z7Baa-ffwjfN"
      },
      "execution_count": null,
      "outputs": []
    },
    {
      "cell_type": "markdown",
      "source": [
        "```\n",
        "Carregar o dataset\n",
        "```"
      ],
      "metadata": {
        "id": "gZXxfE0vtZHB"
      }
    },
    {
      "cell_type": "code",
      "source": [
        "if not os.path.exists(CSV_PATH):\n",
        "    raise FileNotFoundError(\n",
        "        f\"Arquivo não encontrado em '{CSV_PATH}'. \"\n",
        "        \"Envie o 'clientes_inadimplencia.csv' para o Colab (ícone de upload) \"\n",
        "        \"ou ajuste o caminho em CSV_PATH.\"\n",
        "    )\n",
        "\n",
        "df = pd.read_csv(CSV_PATH)\n",
        "\n",
        "print(\"Dataset carregado com sucesso!\")\n",
        "print(\"Dimensão:\", df.shape)\n",
        "print(\"\\nPrimeiras linhas:\")\n",
        "print(df.head())"
      ],
      "metadata": {
        "colab": {
          "base_uri": "https://localhost:8080/"
        },
        "id": "QgNU8HB_wpFu",
        "outputId": "dc48510f-255f-4e96-e103-594b594457c0"
      },
      "execution_count": null,
      "outputs": [
        {
          "output_type": "stream",
          "name": "stdout",
          "text": [
            "Dataset carregado com sucesso!\n",
            "Dimensão: (500, 16)\n",
            "\n",
            "Primeiras linhas:\n",
            "   renda_mensal  idade  divida_total  limite_cartao  saldo_conta  \\\n",
            "0   5609.434160     39  24501.800746    4996.125702  5954.787330   \n",
            "1   2920.031788     37   6835.015844   13050.758629  4013.166308   \n",
            "2   6500.902392     54    121.316748    6407.070486   376.393668   \n",
            "3   6881.129433     25  15792.278568   11134.618437  4342.456023   \n",
            "4   1097.929623     30  22446.705811    8203.959878  1450.696287   \n",
            "\n",
            "   gastos_online  gastos_supermercado  gastos_saude  gastos_lazer  \\\n",
            "0     716.403835          1953.301872    373.653443    469.671793   \n",
            "1     363.796509           917.934059    929.770883      0.000000   \n",
            "2    1765.556173           256.542653    929.123093   1442.263289   \n",
            "3    1495.378147          2213.657642   1042.561279   2959.788055   \n",
            "4     827.688828          2312.064993    968.478338    743.324844   \n",
            "\n",
            "   numero_compras  tempo_emprego_anos  valor_investimentos     patrimonio  \\\n",
            "0               6                  34         14650.827852  119603.105829   \n",
            "1              16                  19         23706.538472  150539.069200   \n",
            "2              69                  38         36942.234694  119358.088956   \n",
            "3              59                  29         15176.963230  102446.241234   \n",
            "4              12                   1          4135.178058   86234.539382   \n",
            "\n",
            "   valor_emprestimos  score_interno  inadimplente  \n",
            "0       35438.915911     675.872802             0  \n",
            "1       11210.775469     602.386442             0  \n",
            "2       11562.256788     570.209169             0  \n",
            "3           0.000000     596.997655             1  \n",
            "4        5652.397382     689.381835             1  \n"
          ]
        }
      ]
    },
    {
      "cell_type": "markdown",
      "source": [
        "```\n",
        "Validar coluna alvo\n",
        "```"
      ],
      "metadata": {
        "id": "zUMjOjfItfhQ"
      }
    },
    {
      "cell_type": "code",
      "source": [
        "if \"inadimplente\" not in df.columns:\n",
        "    raise ValueError(\"A coluna alvo 'inadimplente' não foi encontrada no dataset.\")"
      ],
      "metadata": {
        "id": "6LudCI-Rwv2F"
      },
      "execution_count": null,
      "outputs": []
    },
    {
      "cell_type": "markdown",
      "source": [
        "```\n",
        "Separar em treino (75%) e teste (25%)\n",
        "```"
      ],
      "metadata": {
        "id": "yvHke9vxtmBw"
      }
    },
    {
      "cell_type": "code",
      "source": [
        "X = df.drop(columns=[\"inadimplente\"])\n",
        "y = df[\"inadimplente\"]\n",
        "\n",
        "X_train, X_test, y_train, y_test = train_test_split(\n",
        "    X, y, test_size=TEST_SIZE, random_state=RANDOM_STATE, stratify=y\n",
        ")"
      ],
      "metadata": {
        "id": "NWmIdsUhw0Va"
      },
      "execution_count": null,
      "outputs": []
    },
    {
      "cell_type": "markdown",
      "source": [
        "```\n",
        "Padronizar as variáveis\n",
        "```"
      ],
      "metadata": {
        "id": "fInMzUX-ttJp"
      }
    },
    {
      "cell_type": "code",
      "source": [
        "scaler_full = StandardScaler()\n",
        "X_train_scaled = scaler_full.fit_transform(X_train)\n",
        "X_test_scaled = scaler_full.transform(X_test)"
      ],
      "metadata": {
        "id": "6DIwzFQiw422"
      },
      "execution_count": null,
      "outputs": []
    },
    {
      "cell_type": "markdown",
      "source": [
        "```\n",
        "Treinar SVM Linear com todas as variáveis e calcular acurácia\n",
        "```"
      ],
      "metadata": {
        "id": "5jdVkrYct3TR"
      }
    },
    {
      "cell_type": "code",
      "source": [
        "svm_full = SVC(kernel=\"linear\", random_state=RANDOM_STATE)\n",
        "svm_full.fit(X_train_scaled, y_train)\n",
        "y_pred_full = svm_full.predict(X_test_scaled)\n",
        "acc_full = accuracy_score(y_test, y_pred_full)\n",
        "\n",
        "print(\"\\n📊 Resultado com TODAS as variáveis:\")\n",
        "print(f\"Acurácia (teste): {acc_full:.3f}\")"
      ],
      "metadata": {
        "colab": {
          "base_uri": "https://localhost:8080/"
        },
        "id": "04jgOfydw68G",
        "outputId": "bf03d8bc-c4c2-44a6-9eb7-c546f014ed94"
      },
      "execution_count": null,
      "outputs": [
        {
          "output_type": "stream",
          "name": "stdout",
          "text": [
            "\n",
            "📊 Resultado com TODAS as variáveis:\n",
            "Acurácia (teste): 0.808\n"
          ]
        }
      ]
    },
    {
      "cell_type": "markdown",
      "source": [
        "```\n",
        "Aplicar RFE para selecionar 5 variáveis\n",
        "```"
      ],
      "metadata": {
        "id": "UawihGbpt_HQ"
      }
    },
    {
      "cell_type": "code",
      "source": [
        "rfe = RFE(estimator=SVC(kernel=\"linear\", random_state=RANDOM_STATE), n_features_to_select=N_FEATURES_RFE)\n",
        "rfe.fit(X_train_scaled, y_train)\n",
        "selected_mask = rfe.support_\n",
        "selected_features = X.columns[selected_mask].tolist()\n",
        "\n",
        "print(\"\\n🔎 Variáveis selecionadas pelo RFE:\")\n",
        "\n",
        "for i, feat in enumerate(selected_features, 1):\n",
        "    print(f\"{i}. {feat}\")"
      ],
      "metadata": {
        "colab": {
          "base_uri": "https://localhost:8080/"
        },
        "id": "WbjWHHdcw91b",
        "outputId": "9d0d49bd-4c9e-424c-cd31-e2752627c09f"
      },
      "execution_count": null,
      "outputs": [
        {
          "output_type": "stream",
          "name": "stdout",
          "text": [
            "\n",
            "🔎 Variáveis selecionadas pelo RFE:\n",
            "1. divida_total\n",
            "2. gastos_online\n",
            "3. gastos_saude\n",
            "4. gastos_lazer\n",
            "5. tempo_emprego_anos\n"
          ]
        }
      ]
    },
    {
      "cell_type": "markdown",
      "source": [
        "```\n",
        "Re-treinar o modelo somente com as 5 variáveis selecionadas\n",
        "```"
      ],
      "metadata": {
        "id": "5adFdWUyuIQB"
      }
    },
    {
      "cell_type": "code",
      "source": [
        "X_train_rfe = X_train[selected_features]\n",
        "X_test_rfe = X_test[selected_features]\n",
        "\n",
        "scaler_rfe = StandardScaler()\n",
        "X_train_rfe_scaled = scaler_rfe.fit_transform(X_train_rfe)\n",
        "X_test_rfe_scaled = scaler_rfe.transform(X_test_rfe)\n",
        "\n",
        "svm_rfe = SVC(kernel=\"linear\", random_state=RANDOM_STATE)\n",
        "svm_rfe.fit(X_train_rfe_scaled, y_train)\n",
        "y_pred_rfe = svm_rfe.predict(X_test_rfe_scaled)\n",
        "acc_rfe = accuracy_score(y_test, y_pred_rfe)\n",
        "\n",
        "print(\"\\n📊 Resultado com APENAS as variáveis selecionadas (RFE):\")\n",
        "print(f\"Acurácia (teste): {acc_rfe:.3f}\")"
      ],
      "metadata": {
        "colab": {
          "base_uri": "https://localhost:8080/"
        },
        "id": "pDYEGkYoxFKe",
        "outputId": "227ca5be-9c79-431a-f196-df5f050cd892"
      },
      "execution_count": null,
      "outputs": [
        {
          "output_type": "stream",
          "name": "stdout",
          "text": [
            "\n",
            "📊 Resultado com APENAS as variáveis selecionadas (RFE):\n",
            "Acurácia (teste): 0.808\n"
          ]
        }
      ]
    },
    {
      "cell_type": "markdown",
      "source": [
        "```\n",
        "Conclusão automática básica\n",
        "```"
      ],
      "metadata": {
        "id": "I2ISEQXCuO3x"
      }
    },
    {
      "cell_type": "code",
      "source": [
        "print(\"\\n🧠 Conclusão:\")\n",
        "delta = acc_full - acc_rfe\n",
        "if abs(delta) < 0.01:\n",
        "    print(\n",
        "        \"O modelo com menos variáveis manteve desempenho muito semelhante ao modelo completo. \"\n",
        "        \"Isso sugere que coletar todas as variáveis pode não ser necessário para boa performance.\"\n",
        "    )\n",
        "elif delta > 0:\n",
        "    print(\n",
        "        f\"O modelo reduzido perdeu {delta:.3f} de acurácia em relação ao completo. \"\n",
        "        \"Avalie o custo/benefício de coletar todas as variáveis versus simplicidade.\"\n",
        "    )\n",
        "else:\n",
        "    print(\n",
        "        f\"O modelo reduzido GANHOU {-delta:.3f} de acurácia. \"\n",
        "        \"Isso indica que a seleção de atributos ajudou a remover ruído e simplificar o modelo.\"\n",
        "    )"
      ],
      "metadata": {
        "colab": {
          "base_uri": "https://localhost:8080/"
        },
        "id": "zOqwvzRpxPd_",
        "outputId": "87aba105-f1b9-4ab8-a197-5fcd77679de4"
      },
      "execution_count": null,
      "outputs": [
        {
          "output_type": "stream",
          "name": "stdout",
          "text": [
            "\n",
            "🧠 Conclusão:\n",
            "O modelo com menos variáveis manteve desempenho muito semelhante ao modelo completo. Isso sugere que coletar todas as variáveis pode não ser necessário para boa performance.\n"
          ]
        }
      ]
    }
  ]
}
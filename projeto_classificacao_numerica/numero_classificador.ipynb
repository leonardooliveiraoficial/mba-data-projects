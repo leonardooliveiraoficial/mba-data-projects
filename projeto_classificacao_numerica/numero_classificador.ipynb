{
  "nbformat": 4,
  "nbformat_minor": 0,
  "metadata": {
    "colab": {
      "provenance": [],
      "authorship_tag": "ABX9TyOIlHaj0IYFrubfro9+Jsfk",
      "include_colab_link": true
    },
    "kernelspec": {
      "name": "python3",
      "display_name": "Python 3"
    },
    "language_info": {
      "name": "python"
    }
  },
  "cells": [
    {
      "cell_type": "markdown",
      "metadata": {
        "id": "view-in-github",
        "colab_type": "text"
      },
      "source": [
        "<a href=\"https://colab.research.google.com/github/leonardooliveiraoficial/mba-data-projects/blob/main/projeto_classificacao_numerica/numero_classificador.ipynb\" target=\"_parent\"><img src=\"https://colab.research.google.com/assets/colab-badge.svg\" alt=\"Open In Colab\"/></a>"
      ]
    },
    {
      "cell_type": "markdown",
      "source": [
        "# **Classificador de Números Inteiros**\n",
        "\n",
        "> Projeto em Python para classificação de números (positivo/negativo/zero, par/ímpar e primo/não primo)"
      ],
      "metadata": {
        "id": "g1hV_-PH1HHA"
      }
    },
    {
      "cell_type": "markdown",
      "source": [
        "---\n",
        "## **1. Importar Bibliotecas**"
      ],
      "metadata": {
        "id": "4sXnnYoX1e25"
      }
    },
    {
      "cell_type": "code",
      "source": [
        "import logging"
      ],
      "metadata": {
        "id": "-2w675tn6hs2"
      },
      "execution_count": 30,
      "outputs": []
    },
    {
      "cell_type": "markdown",
      "source": [
        "---\n",
        "## **2. Configuração de log**"
      ],
      "metadata": {
        "id": "5bbRSqxk22KY"
      }
    },
    {
      "cell_type": "code",
      "source": [
        "logging.basicConfig(filename=\"classificador.log\", level=logging.INFO, format=\"%(asctime)s - %(message)s\")"
      ],
      "metadata": {
        "id": "ikknGxjL24LQ"
      },
      "execution_count": 31,
      "outputs": []
    },
    {
      "cell_type": "markdown",
      "source": [
        "---\n",
        "## **3. Implementação das funções** ##"
      ],
      "metadata": {
        "id": "ycsI8sBY1k5p"
      }
    },
    {
      "cell_type": "code",
      "source": [
        "def eh_primo(n: int) -> bool:\n",
        "    if n <= 1:\n",
        "        return False\n",
        "    for i in range(2, int(n**0.5) + 1):\n",
        "        if n % i == 0:\n",
        "            return False\n",
        "    return True\n",
        "\n",
        "def classificar_numero(numero: int) -> str:\n",
        "    status = \"positivo\" if numero > 0 else \"negativo\" if numero < 0 else \"zero\"\n",
        "    paridade = \"par\" if numero % 2 == 0 else \"ímpar\"\n",
        "    primo = \"primo\" if eh_primo(numero) else \"não primo\"\n",
        "    resultado = f\"O número {numero} é {status}, {paridade} e {primo}.\"\n",
        "    logging.info(resultado)\n",
        "    return resultado"
      ],
      "metadata": {
        "id": "ot69CeeJ0Dtg"
      },
      "execution_count": 32,
      "outputs": []
    },
    {
      "cell_type": "markdown",
      "source": [
        "---\n",
        "## **4. Execução interativa** ##"
      ],
      "metadata": {
        "id": "2mM0Uw_x3QPI"
      }
    },
    {
      "cell_type": "code",
      "source": [
        "try:\n",
        "    numero = int(input(\"Digite um número inteiro para classificar: \"))\n",
        "    print(\"Resultado:\", classificar_numero(numero))\n",
        "except ValueError:\n",
        "    print(\"⚠️ Entrada inválida! Por favor, digite um número inteiro.\")"
      ],
      "metadata": {
        "colab": {
          "base_uri": "https://localhost:8080/"
        },
        "id": "1EuW8iAf3QyQ",
        "outputId": "ae28f038-521a-4b1c-ea7b-99dceb0f2d30"
      },
      "execution_count": 34,
      "outputs": [
        {
          "output_type": "stream",
          "name": "stdout",
          "text": [
            "Digite um número inteiro para classificar: 4\n",
            "Resultado: O número 4 é positivo, par e não primo.\n"
          ]
        }
      ]
    }
  ]
}